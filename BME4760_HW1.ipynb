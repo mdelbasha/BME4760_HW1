{
 "cells": [
  {
   "cell_type": "markdown",
   "metadata": {},
   "source": [
    "# Homework Part a\n",
    "**Goal:** *load the dataset in an iPython notebook (3 points)*"
   ]
  },
  {
   "cell_type": "code",
   "execution_count": 3,
   "metadata": {},
   "outputs": [],
   "source": [
    "# import statements uesd for entire assignment\n",
    "import numpy as np\n",
    "import pandas as pd\n",
    "import seaborn as sns\n",
    "import matplotlib.pyplot as plt\n",
    "from urllib.request import urlopen"
   ]
  },
  {
   "cell_type": "code",
   "execution_count": 4,
   "metadata": {},
   "outputs": [],
   "source": [
    "# Get data from the URL and read into a python DataFrame\n",
    "urlPath = 'http://archive.ics.uci.edu/ml/machine-learning-databases/postoperative-patient-data/post-operative.data'\n",
    "raw_data = pd.read_csv(urlPath, header=None) # leave room to add header in later pre-processing\n",
    "# raw_data"
   ]
  },
  {
   "cell_type": "markdown",
   "metadata": {},
   "source": [
    "# Homework Part c\n",
    "**Goal:** *Perform any necessary preprocessing steps. Explain why each step is needed. Use the markdown cells of your notebook for explanations (8 points).*"
   ]
  },
  {
   "cell_type": "code",
   "execution_count": 5,
   "metadata": {},
   "outputs": [],
   "source": [
    "# add in column names\n",
    "explore = raw_data\n",
    "explore.columns = ['L-CORE','L-SURF','L-O2','L-BP','SURF-STBL','CORE-STBL','BP-STBL','COMFORT', 'DECISION ADM-DECS']"
   ]
  },
  {
   "cell_type": "markdown",
   "metadata": {},
   "source": [
    "In the above cell, it was necessary to provide column headers for the information obtained as using **read_csv()** was primarily used for ensure the data was imported. The **header=None** command ensured their would be open space within the python DataFrame to ensure that columns could be added without replacing any data. Without this space, the first line would be assumed to be the headers and data would be lost in filing up the header making the DataFrame have a shape of (89, 9) instead of (90, 9)."
   ]
  },
  {
   "cell_type": "code",
   "execution_count": 6,
   "metadata": {},
   "outputs": [],
   "source": [
    "# remove \"?\" from data\n",
    "explore = explore.replace('?', np.nan)\n",
    "explore = explore.dropna()"
   ]
  },
  {
   "cell_type": "markdown",
   "metadata": {},
   "source": [
    "In the above cell, it was necessary to replace the missing data denoted by *\"?\"* as it would result in error when attempting to visualize data effectively. Thus the **np.replace()** function was used to replace the elements with missing values with *NaN*. Then, using the **pd.DataFrame.dropna()** function, all the rows containing missing values where removed. This was done due to the patient specificity of of each comfort rating. It would not be effective to replace with other values as they would not represent the patient specific definition of comfort at discharge."
   ]
  },
  {
   "cell_type": "code",
   "execution_count": 10,
   "metadata": {},
   "outputs": [],
   "source": [
    "# ensure that comfort data is a numeric type rather than strings for future visualization\n",
    "explore['COMFORT'] = pd.to_numeric(explore['COMFORT'])"
   ]
  },
  {
   "cell_type": "markdown",
   "metadata": {},
   "source": [
    "In the above cell, it was necessary to convert between the python *object* data type to a *int64* data type in order to plot the comfort score approapriately with the other attributes which have various categories."
   ]
  },
  {
   "cell_type": "markdown",
   "metadata": {},
   "source": [
    "# Homework Part b\n",
    "**Goal:** *Explore the dataset using a plot to show the relationship between each one of the categorical features and “comfort”. Interpret the results in a markdown cell (7 points).*"
   ]
  },
  {
   "cell_type": "code",
   "execution_count": 11,
   "metadata": {},
   "outputs": [
    {
     "data": {
      "text/plain": [
       "<matplotlib.axes._subplots.AxesSubplot at 0x1063410d470>"
      ]
     },
     "execution_count": 11,
     "metadata": {},
     "output_type": "execute_result"
    },
    {
     "data": {
      "image/png": "[encoded data removed]",
      "text/plain": [
       "<Figure size 432x288 with 1 Axes>"
      ]
     },
     "metadata": {},
     "output_type": "display_data"
    }
   ],
   "source": [
    "sns.swarmplot(x='L-CORE', y='COMFORT', data=explore) # L-CORE VS COMFORT"
   ]
  },
  {
   "cell_type": "markdown",
   "metadata": {},
   "source": [
    "**Plot of L-CORE vs COMFORT:** "
   ]
  },
  {
   "cell_type": "code",
   "execution_count": null,
   "metadata": {},
   "outputs": [],
   "source": [
    "sns.swarmplot(x='L-SURF', y='COMFORT', data=explore) # L-SURF VS COMFORT"
   ]
  },
  {
   "cell_type": "code",
   "execution_count": null,
   "metadata": {},
   "outputs": [],
   "source": [
    "sns.swarmplot(x='L-O2', y='COMFORT', data=explore) # L-O2 VS COMFORT"
   ]
  },
  {
   "cell_type": "code",
   "execution_count": null,
   "metadata": {},
   "outputs": [],
   "source": [
    "sns.swarmplot(x='L-BP', y='COMFORT', data=explore) # L-BP VS COMFORT"
   ]
  },
  {
   "cell_type": "code",
   "execution_count": null,
   "metadata": {},
   "outputs": [],
   "source": [
    "sns.swarmplot(x='SURF-STBL', y='COMFORT', data=explore) # SURF-STBL VS COMFORT"
   ]
  },
  {
   "cell_type": "code",
   "execution_count": null,
   "metadata": {},
   "outputs": [],
   "source": [
    "sns.swarmplot(x='CORE-STBL', y='COMFORT', data=explore) # CORE-STBL VS COMFORT"
   ]
  },
  {
   "cell_type": "code",
   "execution_count": null,
   "metadata": {},
   "outputs": [],
   "source": [
    "sns.swarmplot(x='BP-STBL', y='COMFORT', data=explore) # BP-STBL VS COMFORT"
   ]
  },
  {
   "cell_type": "code",
   "execution_count": null,
   "metadata": {},
   "outputs": [],
   "source": [
    "sns.swarmplot(x='DECISION ADM-DECS', y='COMFORT', data=explore) # DECISION ADM-DECS VS COMFORT"
   ]
  },
  {
   "cell_type": "markdown",
   "metadata": {},
   "source": [
    "# Homework Part d\n",
    "**Goal:** *Create a GitHub repository and share your code via GitHub with the instructor by submitting the link on Canvas (2 points).*"
   ]
  },
  {
   "cell_type": "markdown",
   "metadata": {},
   "source": [
    "See code here: https://github.com/mdelbasha/BME4760_HW1.git"
   ]
  },
  {
   "cell_type": "code",
   "execution_count": null,
   "metadata": {},
   "outputs": [],
   "source": []
  }
 ],
 "metadata": {
  "kernelspec": {
   "display_name": "Python 3",
   "language": "python",
   "name": "python3"
  },
  "language_info": {
   "codemirror_mode": {
    "name": "ipython",
    "version": 3
   },
   "file_extension": ".py",
   "mimetype": "text/x-python",
   "name": "python",
   "nbconvert_exporter": "python",
   "pygments_lexer": "ipython3",
   "version": "3.6.6"
  }
 },
 "nbformat": 4,
 "nbformat_minor": 2
}
