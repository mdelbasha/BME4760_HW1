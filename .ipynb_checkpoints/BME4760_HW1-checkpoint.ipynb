{
 "cells": [
  {
   "cell_type": "markdown",
   "metadata": {},
   "source": [
    "# Homework Part a\n",
    "Goal: load the dataset in an iPython notebook (3 points)"
   ]
  },
  {
   "cell_type": "code",
   "execution_count": null,
   "metadata": {},
   "outputs": [],
   "source": [
    "# import statements uesd for entire assignment\n",
    "import numpy as np\n",
    "import pandas as pd\n",
    "import seaborn as sns\n",
    "import matplotlib.pyplot as plt\n",
    "from urllib.request import urlopen"
   ]
  },
  {
   "cell_type": "code",
   "execution_count": null,
   "metadata": {},
   "outputs": [],
   "source": [
    "# Get data from the URL and read into a python DataFrame\n",
    "urlPath = 'http://archive.ics.uci.edu/ml/machine-learning-databases/postoperative-patient-data/post-operative.data'\n",
    "raw_data = pd.read_csv(urlPath, header=None) # leave room to add header in later\n",
    "raw_data"
   ]
  },
  {
   "cell_type": "markdown",
   "metadata": {},
   "source": [
    "# Homework Part c\n",
    "Goal: Perform any necessary preprocessing steps. Explain why each step is needed. Use the markdown cells of your notebook for explanations (8 points)."
   ]
  },
  {
   "cell_type": "code",
   "execution_count": null,
   "metadata": {},
   "outputs": [],
   "source": [
    "# add in column names\n",
    "explore = raw_data\n",
    "explore.columns = ['L-CORE','L-SURF','L-O2','L-BP','SURF-STBL','CORE-STBL','BP-STBL','COMFORT', 'DECISION ADM-DECS']\n",
    "explore"
   ]
  },
  {
   "cell_type": "code",
   "execution_count": null,
   "metadata": {},
   "outputs": [],
   "source": [
    "# remove \"?\" from data\n",
    "explore = explore.replace('?', np.nan)\n",
    "explore = explore.dropna()\n",
    "explore"
   ]
  },
  {
   "cell_type": "code",
   "execution_count": null,
   "metadata": {},
   "outputs": [],
   "source": [
    "# ensure that comfort data is a numeric type rather than strings for future visualization\n",
    "explore['COMFORT'] = pd.to_numeric(explore['COMFORT'])"
   ]
  },
  {
   "cell_type": "markdown",
   "metadata": {},
   "source": [
    "# Homework Part b\n",
    "Goal: Explore the dataset using a plot to show the relationship between each one of the categorical features and “comfort”. Interpret the results in a markdown cell (7 points)."
   ]
  },
  {
   "cell_type": "code",
   "execution_count": null,
   "metadata": {},
   "outputs": [],
   "source": [
    "sns.swarmplot(x='L-CORE', y='COMFORT', data=explore) # L-CORE VS COMFORT"
   ]
  },
  {
   "cell_type": "code",
   "execution_count": null,
   "metadata": {},
   "outputs": [],
   "source": [
    "sns.swarmplot(x='L-SURF', y='COMFORT', data=explore) # L-SURF VS COMFORT"
   ]
  },
  {
   "cell_type": "code",
   "execution_count": null,
   "metadata": {},
   "outputs": [],
   "source": [
    "sns.swarmplot(x='L-O2', y='COMFORT', data=explore) # L-O2 VS COMFORT"
   ]
  },
  {
   "cell_type": "code",
   "execution_count": null,
   "metadata": {},
   "outputs": [],
   "source": [
    "sns.swarmplot(x='L-BP', y='COMFORT', data=explore) # L-BP VS COMFORT"
   ]
  },
  {
   "cell_type": "code",
   "execution_count": null,
   "metadata": {},
   "outputs": [],
   "source": [
    "sns.swarmplot(x='SURF-STBL', y='COMFORT', data=explore) # SURF-STBL VS COMFORT"
   ]
  },
  {
   "cell_type": "code",
   "execution_count": null,
   "metadata": {},
   "outputs": [],
   "source": [
    "sns.swarmplot(x='CORE-STBL', y='COMFORT', data=explore) # CORE-STBL VS COMFORT"
   ]
  },
  {
   "cell_type": "code",
   "execution_count": null,
   "metadata": {},
   "outputs": [],
   "source": [
    "sns.swarmplot(x='BP-STBL', y='COMFORT', data=explore) # BP-STBL VS COMFORT"
   ]
  },
  {
   "cell_type": "code",
   "execution_count": null,
   "metadata": {},
   "outputs": [],
   "source": [
    "sns.swarmplot(x='DECISION ADM-DECS', y='COMFORT', data=explore) # DECISION ADM-DECS VS COMFORT"
   ]
  },
  {
   "cell_type": "markdown",
   "metadata": {},
   "source": [
    "# Homework Part d\n",
    "Create a GitHub repository and share your code via GitHub with the instructor by submitting the link on Canvas (2 points)."
   ]
  },
  {
   "cell_type": "markdown",
   "metadata": {},
   "source": [
    "See code here: https://github.com/mdelbasha/BME4760_HW1.git"
   ]
  },
  {
   "cell_type": "code",
   "execution_count": null,
   "metadata": {},
   "outputs": [],
   "source": []
  }
 ],
 "metadata": {
  "kernelspec": {
   "display_name": "Python 3",
   "language": "python",
   "name": "python3"
  },
  "language_info": {
   "codemirror_mode": {
    "name": "ipython",
    "version": 3
   },
   "file_extension": ".py",
   "mimetype": "text/x-python",
   "name": "python",
   "nbconvert_exporter": "python",
   "pygments_lexer": "ipython3",
   "version": "3.6.6"
  }
 },
 "nbformat": 4,
 "nbformat_minor": 2
}
